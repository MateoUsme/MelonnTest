{
  "cells": [
    {
      "cell_type": "markdown",
      "metadata": {
        "id": "view-in-github",
        "colab_type": "text"
      },
      "source": [
        "<a href=\"https://colab.research.google.com/github/MateoUsme/MelonnTest/blob/main/Melonn_Test.ipynb\" target=\"_parent\"><img src=\"https://colab.research.google.com/assets/colab-badge.svg\" alt=\"Open In Colab\"/></a>"
      ]
    },
    {
      "cell_type": "markdown",
      "source": [
        "# Data Exploration"
      ],
      "metadata": {
        "id": "fuX7vKy0DnlJ"
      }
    },
    {
      "cell_type": "code",
      "execution_count": 2,
      "metadata": {
        "id": "QiZ499rQvFeF",
        "colab": {
          "base_uri": "https://localhost:8080/"
        },
        "outputId": "7a7456d6-a582-414e-b233-586c5e7bbe6b"
      },
      "outputs": [
        {
          "output_type": "stream",
          "name": "stderr",
          "text": [
            "/usr/local/lib/python3.7/dist-packages/distributed/config.py:20: YAMLLoadWarning: calling yaml.load() without Loader=... is deprecated, as the default Loader is unsafe. Please read https://msg.pyyaml.org/load for full details.\n",
            "  defaults = yaml.load(f)\n"
          ]
        }
      ],
      "source": [
        "# Data manipulation and general purpose\n",
        "\n",
        "import pandas as pd\n",
        "import matplotlib.pyplot as plt\n",
        "import numpy as np\n",
        "import time\n",
        "import math\n",
        "\n",
        "# Modeling and etrics\n",
        "#   DARTS, library focused on time serie analysis and forecasting\n",
        "#   https://unit8co.github.io/darts/index.html\n",
        "\n",
        "import pmdarima as pmd\n",
        "from darts import TimeSeries\n",
        "from darts.metrics import mape, mase, mae, mse, ope, r2_score, rmse, rmsle\n",
        "from darts.utils.statistics import check_seasonality, plot_acf, plot_residuals_analysis\n",
        "from darts.dataprocessing.transformers.boxcox import BoxCox\n",
        "from darts.models import (\n",
        "    NaiveSeasonal,\n",
        "    NaiveDrift,\n",
        "    ExponentialSmoothing,\n",
        "    ARIMA,\n",
        "    AutoARIMA,\n",
        "    Theta,\n",
        "    RandomForest\n",
        ")\n",
        "\n",
        "\n",
        "import warnings\n",
        "warnings.filterwarnings('ignore')\n",
        "plt.style.use('ggplot')"
      ]
    },
    {
      "cell_type": "markdown",
      "source": [
        "First at all we will take a look at our data, there is two columns of interest that are **RequestTime** with the date of every call and **DeliveryOption** that will tell us in wich shift should we put the order to be enlisted after the processing of the data. We can focus on these variables to move forward the analysis."
      ],
      "metadata": {
        "id": "v5sk_DoJfqyT"
      }
    },
    {
      "cell_type": "code",
      "execution_count": 3,
      "metadata": {
        "colab": {
          "base_uri": "https://localhost:8080/",
          "height": 206
        },
        "id": "rCKHOYLMvFeI",
        "outputId": "97d95f14-9c57-4cc7-d87b-d050aa8af054"
      },
      "outputs": [
        {
          "output_type": "execute_result",
          "data": {
            "text/plain": [
              "  OrderId         RequestTime                          DeliveryOption\n",
              "0   PED_1 2018-01-01 08:03:12       Mismo dia entre 6:30 pm y 8:30 pm\n",
              "1   PED_2 2018-01-01 08:28:55       Mismo dia entre 6:30 pm y 8:30 pm\n",
              "2   PED_3 2018-01-01 08:39:08       Mismo dia entre 6:30 pm y 8:30 pm\n",
              "3   PED_4 2018-01-01 09:25:07  Siguiente dia entre 12:30 pm y 2:30 pm\n",
              "4   PED_5 2018-01-01 09:36:25  Siguiente dia entre 12:30 pm y 2:30 pm"
            ],
            "text/html": [
              "\n",
              "  <div id=\"df-b375d2d7-8e05-465c-a62c-b4589a76995e\">\n",
              "    <div class=\"colab-df-container\">\n",
              "      <div>\n",
              "<style scoped>\n",
              "    .dataframe tbody tr th:only-of-type {\n",
              "        vertical-align: middle;\n",
              "    }\n",
              "\n",
              "    .dataframe tbody tr th {\n",
              "        vertical-align: top;\n",
              "    }\n",
              "\n",
              "    .dataframe thead th {\n",
              "        text-align: right;\n",
              "    }\n",
              "</style>\n",
              "<table border=\"1\" class=\"dataframe\">\n",
              "  <thead>\n",
              "    <tr style=\"text-align: right;\">\n",
              "      <th></th>\n",
              "      <th>OrderId</th>\n",
              "      <th>RequestTime</th>\n",
              "      <th>DeliveryOption</th>\n",
              "    </tr>\n",
              "  </thead>\n",
              "  <tbody>\n",
              "    <tr>\n",
              "      <th>0</th>\n",
              "      <td>PED_1</td>\n",
              "      <td>2018-01-01 08:03:12</td>\n",
              "      <td>Mismo dia entre 6:30 pm y 8:30 pm</td>\n",
              "    </tr>\n",
              "    <tr>\n",
              "      <th>1</th>\n",
              "      <td>PED_2</td>\n",
              "      <td>2018-01-01 08:28:55</td>\n",
              "      <td>Mismo dia entre 6:30 pm y 8:30 pm</td>\n",
              "    </tr>\n",
              "    <tr>\n",
              "      <th>2</th>\n",
              "      <td>PED_3</td>\n",
              "      <td>2018-01-01 08:39:08</td>\n",
              "      <td>Mismo dia entre 6:30 pm y 8:30 pm</td>\n",
              "    </tr>\n",
              "    <tr>\n",
              "      <th>3</th>\n",
              "      <td>PED_4</td>\n",
              "      <td>2018-01-01 09:25:07</td>\n",
              "      <td>Siguiente dia entre 12:30 pm y 2:30 pm</td>\n",
              "    </tr>\n",
              "    <tr>\n",
              "      <th>4</th>\n",
              "      <td>PED_5</td>\n",
              "      <td>2018-01-01 09:36:25</td>\n",
              "      <td>Siguiente dia entre 12:30 pm y 2:30 pm</td>\n",
              "    </tr>\n",
              "  </tbody>\n",
              "</table>\n",
              "</div>\n",
              "      <button class=\"colab-df-convert\" onclick=\"convertToInteractive('df-b375d2d7-8e05-465c-a62c-b4589a76995e')\"\n",
              "              title=\"Convert this dataframe to an interactive table.\"\n",
              "              style=\"display:none;\">\n",
              "        \n",
              "  <svg xmlns=\"http://www.w3.org/2000/svg\" height=\"24px\"viewBox=\"0 0 24 24\"\n",
              "       width=\"24px\">\n",
              "    <path d=\"M0 0h24v24H0V0z\" fill=\"none\"/>\n",
              "    <path d=\"M18.56 5.44l.94 2.06.94-2.06 2.06-.94-2.06-.94-.94-2.06-.94 2.06-2.06.94zm-11 1L8.5 8.5l.94-2.06 2.06-.94-2.06-.94L8.5 2.5l-.94 2.06-2.06.94zm10 10l.94 2.06.94-2.06 2.06-.94-2.06-.94-.94-2.06-.94 2.06-2.06.94z\"/><path d=\"M17.41 7.96l-1.37-1.37c-.4-.4-.92-.59-1.43-.59-.52 0-1.04.2-1.43.59L10.3 9.45l-7.72 7.72c-.78.78-.78 2.05 0 2.83L4 21.41c.39.39.9.59 1.41.59.51 0 1.02-.2 1.41-.59l7.78-7.78 2.81-2.81c.8-.78.8-2.07 0-2.86zM5.41 20L4 18.59l7.72-7.72 1.47 1.35L5.41 20z\"/>\n",
              "  </svg>\n",
              "      </button>\n",
              "      \n",
              "  <style>\n",
              "    .colab-df-container {\n",
              "      display:flex;\n",
              "      flex-wrap:wrap;\n",
              "      gap: 12px;\n",
              "    }\n",
              "\n",
              "    .colab-df-convert {\n",
              "      background-color: #E8F0FE;\n",
              "      border: none;\n",
              "      border-radius: 50%;\n",
              "      cursor: pointer;\n",
              "      display: none;\n",
              "      fill: #1967D2;\n",
              "      height: 32px;\n",
              "      padding: 0 0 0 0;\n",
              "      width: 32px;\n",
              "    }\n",
              "\n",
              "    .colab-df-convert:hover {\n",
              "      background-color: #E2EBFA;\n",
              "      box-shadow: 0px 1px 2px rgba(60, 64, 67, 0.3), 0px 1px 3px 1px rgba(60, 64, 67, 0.15);\n",
              "      fill: #174EA6;\n",
              "    }\n",
              "\n",
              "    [theme=dark] .colab-df-convert {\n",
              "      background-color: #3B4455;\n",
              "      fill: #D2E3FC;\n",
              "    }\n",
              "\n",
              "    [theme=dark] .colab-df-convert:hover {\n",
              "      background-color: #434B5C;\n",
              "      box-shadow: 0px 1px 3px 1px rgba(0, 0, 0, 0.15);\n",
              "      filter: drop-shadow(0px 1px 2px rgba(0, 0, 0, 0.3));\n",
              "      fill: #FFFFFF;\n",
              "    }\n",
              "  </style>\n",
              "\n",
              "      <script>\n",
              "        const buttonEl =\n",
              "          document.querySelector('#df-b375d2d7-8e05-465c-a62c-b4589a76995e button.colab-df-convert');\n",
              "        buttonEl.style.display =\n",
              "          google.colab.kernel.accessAllowed ? 'block' : 'none';\n",
              "\n",
              "        async function convertToInteractive(key) {\n",
              "          const element = document.querySelector('#df-b375d2d7-8e05-465c-a62c-b4589a76995e');\n",
              "          const dataTable =\n",
              "            await google.colab.kernel.invokeFunction('convertToInteractive',\n",
              "                                                     [key], {});\n",
              "          if (!dataTable) return;\n",
              "\n",
              "          const docLinkHtml = 'Like what you see? Visit the ' +\n",
              "            '<a target=\"_blank\" href=https://colab.research.google.com/notebooks/data_table.ipynb>data table notebook</a>'\n",
              "            + ' to learn more about interactive tables.';\n",
              "          element.innerHTML = '';\n",
              "          dataTable['output_type'] = 'display_data';\n",
              "          await google.colab.output.renderOutput(dataTable, element);\n",
              "          const docLink = document.createElement('div');\n",
              "          docLink.innerHTML = docLinkHtml;\n",
              "          element.appendChild(docLink);\n",
              "        }\n",
              "      </script>\n",
              "    </div>\n",
              "  </div>\n",
              "  "
            ]
          },
          "metadata": {},
          "execution_count": 3
        }
      ],
      "source": [
        "df = pd.read_csv(r'Datos_Prueba_DataScientist.csv', parse_dates = ['RequestTime'])\n",
        "df.head()"
      ]
    },
    {
      "cell_type": "markdown",
      "source": [
        "The column **DeliveryOption** has a text with the time that the order will be delivered, we need to change it with the option that the customer did choose:\n",
        "\n",
        "\n",
        "Order recorded in call|Option\n",
        "------------|------------------\n",
        "Mismo dia entre 6:30 pm y 8:30 pm|Option 1\n",
        "Siguiente dia entre 12:30 pm y 2:30 pm|Option 2\n",
        "Siguiente dia entre 6:30 pm y 8:30 pm|Option 3\n",
        "\n"
      ],
      "metadata": {
        "id": "optuiwAZgUgs"
      }
    },
    {
      "cell_type": "markdown",
      "source": [
        "The first step is replacing the order recorded in the call with the option and after this, we can start to move every option in the calls to the shift where it wil be delivered. Here is the relation between the options and the shift the order should be placed:\n",
        "\n",
        "Order option|Shift to be placed\n",
        "------------|------------------\n",
        "Option 1|Shift 2\n",
        "Option 2|Shift 1\n",
        "Option 3|Shift 1"
      ],
      "metadata": {
        "id": "_Opd5ZhamcU7"
      }
    },
    {
      "cell_type": "code",
      "execution_count": 4,
      "metadata": {
        "colab": {
          "base_uri": "https://localhost:8080/",
          "height": 423
        },
        "id": "gWKhb_0nvFeJ",
        "outputId": "75bd27fc-44b9-4822-bfcf-3a6220049c54"
      },
      "outputs": [
        {
          "output_type": "execute_result",
          "data": {
            "text/plain": [
              "           OrderId         RequestTime DeliveryOption\n",
              "0            PED_1 2018-01-01 08:03:12       Option 1\n",
              "1            PED_2 2018-01-01 08:28:55       Option 1\n",
              "2            PED_3 2018-01-01 08:39:08       Option 1\n",
              "3            PED_4 2018-01-01 09:25:07       Option 2\n",
              "4            PED_5 2018-01-01 09:36:25       Option 2\n",
              "...            ...                 ...            ...\n",
              "153270  PED_153271 2021-02-28 17:19:26       Option 2\n",
              "153271  PED_153272 2021-02-28 17:19:37       Option 2\n",
              "153272  PED_153273 2021-02-28 17:43:56       Option 3\n",
              "153273  PED_153274 2021-02-28 17:53:28       Option 3\n",
              "153274  PED_153275 2021-02-28 17:53:41       Option 2\n",
              "\n",
              "[153275 rows x 3 columns]"
            ],
            "text/html": [
              "\n",
              "  <div id=\"df-ec635262-9e90-466a-b650-16ee0ee10680\">\n",
              "    <div class=\"colab-df-container\">\n",
              "      <div>\n",
              "<style scoped>\n",
              "    .dataframe tbody tr th:only-of-type {\n",
              "        vertical-align: middle;\n",
              "    }\n",
              "\n",
              "    .dataframe tbody tr th {\n",
              "        vertical-align: top;\n",
              "    }\n",
              "\n",
              "    .dataframe thead th {\n",
              "        text-align: right;\n",
              "    }\n",
              "</style>\n",
              "<table border=\"1\" class=\"dataframe\">\n",
              "  <thead>\n",
              "    <tr style=\"text-align: right;\">\n",
              "      <th></th>\n",
              "      <th>OrderId</th>\n",
              "      <th>RequestTime</th>\n",
              "      <th>DeliveryOption</th>\n",
              "    </tr>\n",
              "  </thead>\n",
              "  <tbody>\n",
              "    <tr>\n",
              "      <th>0</th>\n",
              "      <td>PED_1</td>\n",
              "      <td>2018-01-01 08:03:12</td>\n",
              "      <td>Option 1</td>\n",
              "    </tr>\n",
              "    <tr>\n",
              "      <th>1</th>\n",
              "      <td>PED_2</td>\n",
              "      <td>2018-01-01 08:28:55</td>\n",
              "      <td>Option 1</td>\n",
              "    </tr>\n",
              "    <tr>\n",
              "      <th>2</th>\n",
              "      <td>PED_3</td>\n",
              "      <td>2018-01-01 08:39:08</td>\n",
              "      <td>Option 1</td>\n",
              "    </tr>\n",
              "    <tr>\n",
              "      <th>3</th>\n",
              "      <td>PED_4</td>\n",
              "      <td>2018-01-01 09:25:07</td>\n",
              "      <td>Option 2</td>\n",
              "    </tr>\n",
              "    <tr>\n",
              "      <th>4</th>\n",
              "      <td>PED_5</td>\n",
              "      <td>2018-01-01 09:36:25</td>\n",
              "      <td>Option 2</td>\n",
              "    </tr>\n",
              "    <tr>\n",
              "      <th>...</th>\n",
              "      <td>...</td>\n",
              "      <td>...</td>\n",
              "      <td>...</td>\n",
              "    </tr>\n",
              "    <tr>\n",
              "      <th>153270</th>\n",
              "      <td>PED_153271</td>\n",
              "      <td>2021-02-28 17:19:26</td>\n",
              "      <td>Option 2</td>\n",
              "    </tr>\n",
              "    <tr>\n",
              "      <th>153271</th>\n",
              "      <td>PED_153272</td>\n",
              "      <td>2021-02-28 17:19:37</td>\n",
              "      <td>Option 2</td>\n",
              "    </tr>\n",
              "    <tr>\n",
              "      <th>153272</th>\n",
              "      <td>PED_153273</td>\n",
              "      <td>2021-02-28 17:43:56</td>\n",
              "      <td>Option 3</td>\n",
              "    </tr>\n",
              "    <tr>\n",
              "      <th>153273</th>\n",
              "      <td>PED_153274</td>\n",
              "      <td>2021-02-28 17:53:28</td>\n",
              "      <td>Option 3</td>\n",
              "    </tr>\n",
              "    <tr>\n",
              "      <th>153274</th>\n",
              "      <td>PED_153275</td>\n",
              "      <td>2021-02-28 17:53:41</td>\n",
              "      <td>Option 2</td>\n",
              "    </tr>\n",
              "  </tbody>\n",
              "</table>\n",
              "<p>153275 rows × 3 columns</p>\n",
              "</div>\n",
              "      <button class=\"colab-df-convert\" onclick=\"convertToInteractive('df-ec635262-9e90-466a-b650-16ee0ee10680')\"\n",
              "              title=\"Convert this dataframe to an interactive table.\"\n",
              "              style=\"display:none;\">\n",
              "        \n",
              "  <svg xmlns=\"http://www.w3.org/2000/svg\" height=\"24px\"viewBox=\"0 0 24 24\"\n",
              "       width=\"24px\">\n",
              "    <path d=\"M0 0h24v24H0V0z\" fill=\"none\"/>\n",
              "    <path d=\"M18.56 5.44l.94 2.06.94-2.06 2.06-.94-2.06-.94-.94-2.06-.94 2.06-2.06.94zm-11 1L8.5 8.5l.94-2.06 2.06-.94-2.06-.94L8.5 2.5l-.94 2.06-2.06.94zm10 10l.94 2.06.94-2.06 2.06-.94-2.06-.94-.94-2.06-.94 2.06-2.06.94z\"/><path d=\"M17.41 7.96l-1.37-1.37c-.4-.4-.92-.59-1.43-.59-.52 0-1.04.2-1.43.59L10.3 9.45l-7.72 7.72c-.78.78-.78 2.05 0 2.83L4 21.41c.39.39.9.59 1.41.59.51 0 1.02-.2 1.41-.59l7.78-7.78 2.81-2.81c.8-.78.8-2.07 0-2.86zM5.41 20L4 18.59l7.72-7.72 1.47 1.35L5.41 20z\"/>\n",
              "  </svg>\n",
              "      </button>\n",
              "      \n",
              "  <style>\n",
              "    .colab-df-container {\n",
              "      display:flex;\n",
              "      flex-wrap:wrap;\n",
              "      gap: 12px;\n",
              "    }\n",
              "\n",
              "    .colab-df-convert {\n",
              "      background-color: #E8F0FE;\n",
              "      border: none;\n",
              "      border-radius: 50%;\n",
              "      cursor: pointer;\n",
              "      display: none;\n",
              "      fill: #1967D2;\n",
              "      height: 32px;\n",
              "      padding: 0 0 0 0;\n",
              "      width: 32px;\n",
              "    }\n",
              "\n",
              "    .colab-df-convert:hover {\n",
              "      background-color: #E2EBFA;\n",
              "      box-shadow: 0px 1px 2px rgba(60, 64, 67, 0.3), 0px 1px 3px 1px rgba(60, 64, 67, 0.15);\n",
              "      fill: #174EA6;\n",
              "    }\n",
              "\n",
              "    [theme=dark] .colab-df-convert {\n",
              "      background-color: #3B4455;\n",
              "      fill: #D2E3FC;\n",
              "    }\n",
              "\n",
              "    [theme=dark] .colab-df-convert:hover {\n",
              "      background-color: #434B5C;\n",
              "      box-shadow: 0px 1px 3px 1px rgba(0, 0, 0, 0.15);\n",
              "      filter: drop-shadow(0px 1px 2px rgba(0, 0, 0, 0.3));\n",
              "      fill: #FFFFFF;\n",
              "    }\n",
              "  </style>\n",
              "\n",
              "      <script>\n",
              "        const buttonEl =\n",
              "          document.querySelector('#df-ec635262-9e90-466a-b650-16ee0ee10680 button.colab-df-convert');\n",
              "        buttonEl.style.display =\n",
              "          google.colab.kernel.accessAllowed ? 'block' : 'none';\n",
              "\n",
              "        async function convertToInteractive(key) {\n",
              "          const element = document.querySelector('#df-ec635262-9e90-466a-b650-16ee0ee10680');\n",
              "          const dataTable =\n",
              "            await google.colab.kernel.invokeFunction('convertToInteractive',\n",
              "                                                     [key], {});\n",
              "          if (!dataTable) return;\n",
              "\n",
              "          const docLinkHtml = 'Like what you see? Visit the ' +\n",
              "            '<a target=\"_blank\" href=https://colab.research.google.com/notebooks/data_table.ipynb>data table notebook</a>'\n",
              "            + ' to learn more about interactive tables.';\n",
              "          element.innerHTML = '';\n",
              "          dataTable['output_type'] = 'display_data';\n",
              "          await google.colab.output.renderOutput(dataTable, element);\n",
              "          const docLink = document.createElement('div');\n",
              "          docLink.innerHTML = docLinkHtml;\n",
              "          element.appendChild(docLink);\n",
              "        }\n",
              "      </script>\n",
              "    </div>\n",
              "  </div>\n",
              "  "
            ]
          },
          "metadata": {},
          "execution_count": 4
        }
      ],
      "source": [
        "options = {'Mismo dia entre 6:30 pm y 8:30 pm' : 'Option 1',\n",
        "           'Siguiente dia entre 12:30 pm y 2:30 pm' : 'Option 2',\n",
        "           'Siguiente dia entre las 6:30 pm y 8:30 pm' : 'Option 3'}\n",
        "\n",
        "df.DeliveryOption = df.DeliveryOption.replace(options)\n",
        "df"
      ]
    },
    {
      "cell_type": "markdown",
      "source": [
        "To ensure the integrity of the calls with the Option 1, that is only allowed to be requested from 8AM to 12 PM, we filter by this option and it shows that the calls were done in the exptected range of time."
      ],
      "metadata": {
        "id": "wW7NEbeimi8-"
      }
    },
    {
      "cell_type": "code",
      "execution_count": 5,
      "metadata": {
        "colab": {
          "base_uri": "https://localhost:8080/",
          "height": 281
        },
        "id": "CJ2EtFHAvFeK",
        "outputId": "fdfa842f-28c3-49e8-8e01-3c97fec90c8d"
      },
      "outputs": [
        {
          "output_type": "display_data",
          "data": {
            "text/plain": [
              "<Figure size 576x288 with 1 Axes>"
            ],
            "image/png": "[encoded data removed]"
          },
          "metadata": {}
        }
      ],
      "source": [
        "df[df.DeliveryOption == 'Option 1'].RequestTime.dt.hour.value_counts().plot.bar(figsize=(8,4), color='dodgerblue');\n",
        "plt.title('Calls per hour that request Option 1');\n",
        "plt.xticks(rotation=0);"
      ]
    },
    {
      "cell_type": "markdown",
      "source": [
        "Plotting valuable information can help us to understand more the dynamic with the amount of orders that the **pickers** need to enlist for each Shift."
      ],
      "metadata": {
        "id": "actNMpzspJol"
      }
    },
    {
      "cell_type": "code",
      "source": [
        "df.RequestTime.dt.day.sort_values().value_counts(sort=False).plot.bar(figsize=(20,6), color='dodgerblue');\n",
        "plt.title('Orders requested per day in the historical data');\n",
        "plt.xticks(rotation=0);"
      ],
      "metadata": {
        "colab": {
          "base_uri": "https://localhost:8080/",
          "height": 390
        },
        "id": "z03iKMdrr6ty",
        "outputId": "bcf05d65-d228-4f11-beb2-9f6628c814ec"
      },
      "execution_count": 6,
      "outputs": [
        {
          "output_type": "display_data",
          "data": {
            "text/plain": [
              "<Figure size 1440x432 with 1 Axes>"
            ],
            "image/png": "[encoded data removed]"
          },
          "metadata": {}
        }
      ]
    },
    {
      "cell_type": "markdown",
      "source": [
        "There is a clear decrease of orders recorded in calls at the end of the month, the day 31 cannot be counted because not all months have 31 days but they all have 30 excluding February."
      ],
      "metadata": {
        "id": "mtI0Jen6t_t6"
      }
    },
    {
      "cell_type": "code",
      "source": [
        "df.RequestTime.dt.month.sort_values().value_counts(sort=False).plot.bar(figsize=(20,6), color='dodgerblue');\n",
        "plt.title('Orders requested per month in the historical data');\n",
        "plt.grid(linestyle='--', alpha=0.3);\n",
        "plt.xticks(rotation=0);"
      ],
      "metadata": {
        "colab": {
          "base_uri": "https://localhost:8080/",
          "height": 390
        },
        "id": "Xtn1Bhmxu6ja",
        "outputId": "5d62f0fb-3ab7-4800-abc2-5c2ecce9a5c0"
      },
      "execution_count": 7,
      "outputs": [
        {
          "output_type": "display_data",
          "data": {
            "text/plain": [
              "<Figure size 1440x432 with 1 Axes>"
            ],
            "image/png": "[encoded data removed]"
          },
          "metadata": {}
        }
      ]
    },
    {
      "cell_type": "markdown",
      "source": [
        "But if we take a moment to look the count of total calls by month there is a pattern where in the mid of the year and the start of him the orders increase a lot, specially in December, January and February!"
      ],
      "metadata": {
        "id": "4aFzZB0LvDsr"
      }
    },
    {
      "cell_type": "markdown",
      "source": [
        "# Data Processing\n",
        "\n",
        "It's time to separate the orders placed along the days in every Shift, the options are distributed to work individually with each one:"
      ],
      "metadata": {
        "id": "dnmr2Ec_nFYl"
      }
    },
    {
      "cell_type": "code",
      "execution_count": 8,
      "metadata": {
        "colab": {
          "base_uri": "https://localhost:8080/",
          "height": 394
        },
        "id": "6wHBYSiZvFeK",
        "outputId": "c9d6ed7b-710d-4f13-d882-186bbd1cf76c"
      },
      "outputs": [
        {
          "output_type": "execute_result",
          "data": {
            "text/plain": [
              "                    OrderId DeliveryOption  Option 1  Option 2  Option 3\n",
              "RequestTime                                                             \n",
              "2018-01-01 08:03:12   PED_1       Option 1  Option 1       NaN       NaN\n",
              "2018-01-01 08:28:55   PED_2       Option 1  Option 1       NaN       NaN\n",
              "2018-01-01 08:39:08   PED_3       Option 1  Option 1       NaN       NaN\n",
              "2018-01-01 09:25:07   PED_4       Option 2       NaN  Option 2       NaN\n",
              "2018-01-01 09:36:25   PED_5       Option 2       NaN  Option 2       NaN\n",
              "2018-01-01 10:21:53   PED_6       Option 1  Option 1       NaN       NaN\n",
              "2018-01-01 10:27:17   PED_7       Option 1  Option 1       NaN       NaN\n",
              "2018-01-01 10:48:53   PED_8       Option 1  Option 1       NaN       NaN\n",
              "2018-01-01 11:13:10   PED_9       Option 1  Option 1       NaN       NaN\n",
              "2018-01-01 11:39:26  PED_10       Option 3       NaN       NaN  Option 3"
            ],
            "text/html": [
              "\n",
              "  <div id=\"df-b08d58b8-01c0-457b-962a-670ce3b38586\">\n",
              "    <div class=\"colab-df-container\">\n",
              "      <div>\n",
              "<style scoped>\n",
              "    .dataframe tbody tr th:only-of-type {\n",
              "        vertical-align: middle;\n",
              "    }\n",
              "\n",
              "    .dataframe tbody tr th {\n",
              "        vertical-align: top;\n",
              "    }\n",
              "\n",
              "    .dataframe thead th {\n",
              "        text-align: right;\n",
              "    }\n",
              "</style>\n",
              "<table border=\"1\" class=\"dataframe\">\n",
              "  <thead>\n",
              "    <tr style=\"text-align: right;\">\n",
              "      <th></th>\n",
              "      <th>OrderId</th>\n",
              "      <th>DeliveryOption</th>\n",
              "      <th>Option 1</th>\n",
              "      <th>Option 2</th>\n",
              "      <th>Option 3</th>\n",
              "    </tr>\n",
              "    <tr>\n",
              "      <th>RequestTime</th>\n",
              "      <th></th>\n",
              "      <th></th>\n",
              "      <th></th>\n",
              "      <th></th>\n",
              "      <th></th>\n",
              "    </tr>\n",
              "  </thead>\n",
              "  <tbody>\n",
              "    <tr>\n",
              "      <th>2018-01-01 08:03:12</th>\n",
              "      <td>PED_1</td>\n",
              "      <td>Option 1</td>\n",
              "      <td>Option 1</td>\n",
              "      <td>NaN</td>\n",
              "      <td>NaN</td>\n",
              "    </tr>\n",
              "    <tr>\n",
              "      <th>2018-01-01 08:28:55</th>\n",
              "      <td>PED_2</td>\n",
              "      <td>Option 1</td>\n",
              "      <td>Option 1</td>\n",
              "      <td>NaN</td>\n",
              "      <td>NaN</td>\n",
              "    </tr>\n",
              "    <tr>\n",
              "      <th>2018-01-01 08:39:08</th>\n",
              "      <td>PED_3</td>\n",
              "      <td>Option 1</td>\n",
              "      <td>Option 1</td>\n",
              "      <td>NaN</td>\n",
              "      <td>NaN</td>\n",
              "    </tr>\n",
              "    <tr>\n",
              "      <th>2018-01-01 09:25:07</th>\n",
              "      <td>PED_4</td>\n",
              "      <td>Option 2</td>\n",
              "      <td>NaN</td>\n",
              "      <td>Option 2</td>\n",
              "      <td>NaN</td>\n",
              "    </tr>\n",
              "    <tr>\n",
              "      <th>2018-01-01 09:36:25</th>\n",
              "      <td>PED_5</td>\n",
              "      <td>Option 2</td>\n",
              "      <td>NaN</td>\n",
              "      <td>Option 2</td>\n",
              "      <td>NaN</td>\n",
              "    </tr>\n",
              "    <tr>\n",
              "      <th>2018-01-01 10:21:53</th>\n",
              "      <td>PED_6</td>\n",
              "      <td>Option 1</td>\n",
              "      <td>Option 1</td>\n",
              "      <td>NaN</td>\n",
              "      <td>NaN</td>\n",
              "    </tr>\n",
              "    <tr>\n",
              "      <th>2018-01-01 10:27:17</th>\n",
              "      <td>PED_7</td>\n",
              "      <td>Option 1</td>\n",
              "      <td>Option 1</td>\n",
              "      <td>NaN</td>\n",
              "      <td>NaN</td>\n",
              "    </tr>\n",
              "    <tr>\n",
              "      <th>2018-01-01 10:48:53</th>\n",
              "      <td>PED_8</td>\n",
              "      <td>Option 1</td>\n",
              "      <td>Option 1</td>\n",
              "      <td>NaN</td>\n",
              "      <td>NaN</td>\n",
              "    </tr>\n",
              "    <tr>\n",
              "      <th>2018-01-01 11:13:10</th>\n",
              "      <td>PED_9</td>\n",
              "      <td>Option 1</td>\n",
              "      <td>Option 1</td>\n",
              "      <td>NaN</td>\n",
              "      <td>NaN</td>\n",
              "    </tr>\n",
              "    <tr>\n",
              "      <th>2018-01-01 11:39:26</th>\n",
              "      <td>PED_10</td>\n",
              "      <td>Option 3</td>\n",
              "      <td>NaN</td>\n",
              "      <td>NaN</td>\n",
              "      <td>Option 3</td>\n",
              "    </tr>\n",
              "  </tbody>\n",
              "</table>\n",
              "</div>\n",
              "      <button class=\"colab-df-convert\" onclick=\"convertToInteractive('df-b08d58b8-01c0-457b-962a-670ce3b38586')\"\n",
              "              title=\"Convert this dataframe to an interactive table.\"\n",
              "              style=\"display:none;\">\n",
              "        \n",
              "  <svg xmlns=\"http://www.w3.org/2000/svg\" height=\"24px\"viewBox=\"0 0 24 24\"\n",
              "       width=\"24px\">\n",
              "    <path d=\"M0 0h24v24H0V0z\" fill=\"none\"/>\n",
              "    <path d=\"M18.56 5.44l.94 2.06.94-2.06 2.06-.94-2.06-.94-.94-2.06-.94 2.06-2.06.94zm-11 1L8.5 8.5l.94-2.06 2.06-.94-2.06-.94L8.5 2.5l-.94 2.06-2.06.94zm10 10l.94 2.06.94-2.06 2.06-.94-2.06-.94-.94-2.06-.94 2.06-2.06.94z\"/><path d=\"M17.41 7.96l-1.37-1.37c-.4-.4-.92-.59-1.43-.59-.52 0-1.04.2-1.43.59L10.3 9.45l-7.72 7.72c-.78.78-.78 2.05 0 2.83L4 21.41c.39.39.9.59 1.41.59.51 0 1.02-.2 1.41-.59l7.78-7.78 2.81-2.81c.8-.78.8-2.07 0-2.86zM5.41 20L4 18.59l7.72-7.72 1.47 1.35L5.41 20z\"/>\n",
              "  </svg>\n",
              "      </button>\n",
              "      \n",
              "  <style>\n",
              "    .colab-df-container {\n",
              "      display:flex;\n",
              "      flex-wrap:wrap;\n",
              "      gap: 12px;\n",
              "    }\n",
              "\n",
              "    .colab-df-convert {\n",
              "      background-color: #E8F0FE;\n",
              "      border: none;\n",
              "      border-radius: 50%;\n",
              "      cursor: pointer;\n",
              "      display: none;\n",
              "      fill: #1967D2;\n",
              "      height: 32px;\n",
              "      padding: 0 0 0 0;\n",
              "      width: 32px;\n",
              "    }\n",
              "\n",
              "    .colab-df-convert:hover {\n",
              "      background-color: #E2EBFA;\n",
              "      box-shadow: 0px 1px 2px rgba(60, 64, 67, 0.3), 0px 1px 3px 1px rgba(60, 64, 67, 0.15);\n",
              "      fill: #174EA6;\n",
              "    }\n",
              "\n",
              "    [theme=dark] .colab-df-convert {\n",
              "      background-color: #3B4455;\n",
              "      fill: #D2E3FC;\n",
              "    }\n",
              "\n",
              "    [theme=dark] .colab-df-convert:hover {\n",
              "      background-color: #434B5C;\n",
              "      box-shadow: 0px 1px 3px 1px rgba(0, 0, 0, 0.15);\n",
              "      filter: drop-shadow(0px 1px 2px rgba(0, 0, 0, 0.3));\n",
              "      fill: #FFFFFF;\n",
              "    }\n",
              "  </style>\n",
              "\n",
              "      <script>\n",
              "        const buttonEl =\n",
              "          document.querySelector('#df-b08d58b8-01c0-457b-962a-670ce3b38586 button.colab-df-convert');\n",
              "        buttonEl.style.display =\n",
              "          google.colab.kernel.accessAllowed ? 'block' : 'none';\n",
              "\n",
              "        async function convertToInteractive(key) {\n",
              "          const element = document.querySelector('#df-b08d58b8-01c0-457b-962a-670ce3b38586');\n",
              "          const dataTable =\n",
              "            await google.colab.kernel.invokeFunction('convertToInteractive',\n",
              "                                                     [key], {});\n",
              "          if (!dataTable) return;\n",
              "\n",
              "          const docLinkHtml = 'Like what you see? Visit the ' +\n",
              "            '<a target=\"_blank\" href=https://colab.research.google.com/notebooks/data_table.ipynb>data table notebook</a>'\n",
              "            + ' to learn more about interactive tables.';\n",
              "          element.innerHTML = '';\n",
              "          dataTable['output_type'] = 'display_data';\n",
              "          await google.colab.output.renderOutput(dataTable, element);\n",
              "          const docLink = document.createElement('div');\n",
              "          docLink.innerHTML = docLinkHtml;\n",
              "          element.appendChild(docLink);\n",
              "        }\n",
              "      </script>\n",
              "    </div>\n",
              "  </div>\n",
              "  "
            ]
          },
          "metadata": {},
          "execution_count": 8
        }
      ],
      "source": [
        "df = pd.concat([df, df.pivot(columns = ['DeliveryOption'], values = ['DeliveryOption']).DeliveryOption],axis = 1)\n",
        "df.set_index('RequestTime', drop=True, inplace=True)\n",
        "df.head(10)"
      ]
    },
    {
      "cell_type": "markdown",
      "source": [
        "Next step is to sumarize the calls by days and counting the orders by options:"
      ],
      "metadata": {
        "id": "oxf1bIhknCDy"
      }
    },
    {
      "cell_type": "code",
      "execution_count": 9,
      "metadata": {
        "colab": {
          "base_uri": "https://localhost:8080/",
          "height": 455
        },
        "id": "mNX2eNapvFeK",
        "outputId": "df1a59b2-34e9-4437-c6e2-7d0aa29eb3db"
      },
      "outputs": [
        {
          "output_type": "execute_result",
          "data": {
            "text/plain": [
              "             Option 1  Option 2  Option 3\n",
              "RequestTime                              \n",
              "2018-01-01          8         5         5\n",
              "2018-01-02          7         7         5\n",
              "2018-01-03          8         7         5\n",
              "2018-01-04          9         6         4\n",
              "2018-01-05          9         7         6\n",
              "...               ...       ...       ...\n",
              "2021-02-24         91        57        25\n",
              "2021-02-25         91        50        20\n",
              "2021-02-26        118        73        25\n",
              "2021-02-27        162       105        48\n",
              "2021-02-28        173        69        33\n",
              "\n",
              "[1155 rows x 3 columns]"
            ],
            "text/html": [
              "\n",
              "  <div id=\"df-801d1840-e1c7-4c74-8d93-28fdaa43f06d\">\n",
              "    <div class=\"colab-df-container\">\n",
              "      <div>\n",
              "<style scoped>\n",
              "    .dataframe tbody tr th:only-of-type {\n",
              "        vertical-align: middle;\n",
              "    }\n",
              "\n",
              "    .dataframe tbody tr th {\n",
              "        vertical-align: top;\n",
              "    }\n",
              "\n",
              "    .dataframe thead th {\n",
              "        text-align: right;\n",
              "    }\n",
              "</style>\n",
              "<table border=\"1\" class=\"dataframe\">\n",
              "  <thead>\n",
              "    <tr style=\"text-align: right;\">\n",
              "      <th></th>\n",
              "      <th>Option 1</th>\n",
              "      <th>Option 2</th>\n",
              "      <th>Option 3</th>\n",
              "    </tr>\n",
              "    <tr>\n",
              "      <th>RequestTime</th>\n",
              "      <th></th>\n",
              "      <th></th>\n",
              "      <th></th>\n",
              "    </tr>\n",
              "  </thead>\n",
              "  <tbody>\n",
              "    <tr>\n",
              "      <th>2018-01-01</th>\n",
              "      <td>8</td>\n",
              "      <td>5</td>\n",
              "      <td>5</td>\n",
              "    </tr>\n",
              "    <tr>\n",
              "      <th>2018-01-02</th>\n",
              "      <td>7</td>\n",
              "      <td>7</td>\n",
              "      <td>5</td>\n",
              "    </tr>\n",
              "    <tr>\n",
              "      <th>2018-01-03</th>\n",
              "      <td>8</td>\n",
              "      <td>7</td>\n",
              "      <td>5</td>\n",
              "    </tr>\n",
              "    <tr>\n",
              "      <th>2018-01-04</th>\n",
              "      <td>9</td>\n",
              "      <td>6</td>\n",
              "      <td>4</td>\n",
              "    </tr>\n",
              "    <tr>\n",
              "      <th>2018-01-05</th>\n",
              "      <td>9</td>\n",
              "      <td>7</td>\n",
              "      <td>6</td>\n",
              "    </tr>\n",
              "    <tr>\n",
              "      <th>...</th>\n",
              "      <td>...</td>\n",
              "      <td>...</td>\n",
              "      <td>...</td>\n",
              "    </tr>\n",
              "    <tr>\n",
              "      <th>2021-02-24</th>\n",
              "      <td>91</td>\n",
              "      <td>57</td>\n",
              "      <td>25</td>\n",
              "    </tr>\n",
              "    <tr>\n",
              "      <th>2021-02-25</th>\n",
              "      <td>91</td>\n",
              "      <td>50</td>\n",
              "      <td>20</td>\n",
              "    </tr>\n",
              "    <tr>\n",
              "      <th>2021-02-26</th>\n",
              "      <td>118</td>\n",
              "      <td>73</td>\n",
              "      <td>25</td>\n",
              "    </tr>\n",
              "    <tr>\n",
              "      <th>2021-02-27</th>\n",
              "      <td>162</td>\n",
              "      <td>105</td>\n",
              "      <td>48</td>\n",
              "    </tr>\n",
              "    <tr>\n",
              "      <th>2021-02-28</th>\n",
              "      <td>173</td>\n",
              "      <td>69</td>\n",
              "      <td>33</td>\n",
              "    </tr>\n",
              "  </tbody>\n",
              "</table>\n",
              "<p>1155 rows × 3 columns</p>\n",
              "</div>\n",
              "      <button class=\"colab-df-convert\" onclick=\"convertToInteractive('df-801d1840-e1c7-4c74-8d93-28fdaa43f06d')\"\n",
              "              title=\"Convert this dataframe to an interactive table.\"\n",
              "              style=\"display:none;\">\n",
              "        \n",
              "  <svg xmlns=\"http://www.w3.org/2000/svg\" height=\"24px\"viewBox=\"0 0 24 24\"\n",
              "       width=\"24px\">\n",
              "    <path d=\"M0 0h24v24H0V0z\" fill=\"none\"/>\n",
              "    <path d=\"M18.56 5.44l.94 2.06.94-2.06 2.06-.94-2.06-.94-.94-2.06-.94 2.06-2.06.94zm-11 1L8.5 8.5l.94-2.06 2.06-.94-2.06-.94L8.5 2.5l-.94 2.06-2.06.94zm10 10l.94 2.06.94-2.06 2.06-.94-2.06-.94-.94-2.06-.94 2.06-2.06.94z\"/><path d=\"M17.41 7.96l-1.37-1.37c-.4-.4-.92-.59-1.43-.59-.52 0-1.04.2-1.43.59L10.3 9.45l-7.72 7.72c-.78.78-.78 2.05 0 2.83L4 21.41c.39.39.9.59 1.41.59.51 0 1.02-.2 1.41-.59l7.78-7.78 2.81-2.81c.8-.78.8-2.07 0-2.86zM5.41 20L4 18.59l7.72-7.72 1.47 1.35L5.41 20z\"/>\n",
              "  </svg>\n",
              "      </button>\n",
              "      \n",
              "  <style>\n",
              "    .colab-df-container {\n",
              "      display:flex;\n",
              "      flex-wrap:wrap;\n",
              "      gap: 12px;\n",
              "    }\n",
              "\n",
              "    .colab-df-convert {\n",
              "      background-color: #E8F0FE;\n",
              "      border: none;\n",
              "      border-radius: 50%;\n",
              "      cursor: pointer;\n",
              "      display: none;\n",
              "      fill: #1967D2;\n",
              "      height: 32px;\n",
              "      padding: 0 0 0 0;\n",
              "      width: 32px;\n",
              "    }\n",
              "\n",
              "    .colab-df-convert:hover {\n",
              "      background-color: #E2EBFA;\n",
              "      box-shadow: 0px 1px 2px rgba(60, 64, 67, 0.3), 0px 1px 3px 1px rgba(60, 64, 67, 0.15);\n",
              "      fill: #174EA6;\n",
              "    }\n",
              "\n",
              "    [theme=dark] .colab-df-convert {\n",
              "      background-color: #3B4455;\n",
              "      fill: #D2E3FC;\n",
              "    }\n",
              "\n",
              "    [theme=dark] .colab-df-convert:hover {\n",
              "      background-color: #434B5C;\n",
              "      box-shadow: 0px 1px 3px 1px rgba(0, 0, 0, 0.15);\n",
              "      filter: drop-shadow(0px 1px 2px rgba(0, 0, 0, 0.3));\n",
              "      fill: #FFFFFF;\n",
              "    }\n",
              "  </style>\n",
              "\n",
              "      <script>\n",
              "        const buttonEl =\n",
              "          document.querySelector('#df-801d1840-e1c7-4c74-8d93-28fdaa43f06d button.colab-df-convert');\n",
              "        buttonEl.style.display =\n",
              "          google.colab.kernel.accessAllowed ? 'block' : 'none';\n",
              "\n",
              "        async function convertToInteractive(key) {\n",
              "          const element = document.querySelector('#df-801d1840-e1c7-4c74-8d93-28fdaa43f06d');\n",
              "          const dataTable =\n",
              "            await google.colab.kernel.invokeFunction('convertToInteractive',\n",
              "                                                     [key], {});\n",
              "          if (!dataTable) return;\n",
              "\n",
              "          const docLinkHtml = 'Like what you see? Visit the ' +\n",
              "            '<a target=\"_blank\" href=https://colab.research.google.com/notebooks/data_table.ipynb>data table notebook</a>'\n",
              "            + ' to learn more about interactive tables.';\n",
              "          element.innerHTML = '';\n",
              "          dataTable['output_type'] = 'display_data';\n",
              "          await google.colab.output.renderOutput(dataTable, element);\n",
              "          const docLink = document.createElement('div');\n",
              "          docLink.innerHTML = docLinkHtml;\n",
              "          element.appendChild(docLink);\n",
              "        }\n",
              "      </script>\n",
              "    </div>\n",
              "  </div>\n",
              "  "
            ]
          },
          "metadata": {},
          "execution_count": 9
        }
      ],
      "source": [
        "df = df.resample('D').count()[['Option 1', 'Option 2','Option 3']]\n",
        "df"
      ]
    },
    {
      "cell_type": "markdown",
      "source": [
        "And finally we can separate the options with the most complete data per day in both shifts:"
      ],
      "metadata": {
        "id": "wHN0ZD0toiGX"
      }
    },
    {
      "cell_type": "code",
      "execution_count": 10,
      "metadata": {
        "colab": {
          "base_uri": "https://localhost:8080/",
          "height": 455
        },
        "id": "SxwsQlOKvFeL",
        "outputId": "2ce09140-ab01-4225-f3cd-deba9ad13a9b"
      },
      "outputs": [
        {
          "output_type": "execute_result",
          "data": {
            "text/plain": [
              "             Shift 1  Shift 2\n",
              "RequestTime                  \n",
              "2018-01-02      10.0        7\n",
              "2018-01-03      12.0        8\n",
              "2018-01-04      12.0        9\n",
              "2018-01-05      10.0        9\n",
              "2018-01-06      13.0       16\n",
              "...              ...      ...\n",
              "2021-02-24      76.0       91\n",
              "2021-02-25      82.0       91\n",
              "2021-02-26      70.0      118\n",
              "2021-02-27      98.0      162\n",
              "2021-02-28     153.0      173\n",
              "\n",
              "[1154 rows x 2 columns]"
            ],
            "text/html": [
              "\n",
              "  <div id=\"df-7b753349-4135-446b-815e-b151c849f97f\">\n",
              "    <div class=\"colab-df-container\">\n",
              "      <div>\n",
              "<style scoped>\n",
              "    .dataframe tbody tr th:only-of-type {\n",
              "        vertical-align: middle;\n",
              "    }\n",
              "\n",
              "    .dataframe tbody tr th {\n",
              "        vertical-align: top;\n",
              "    }\n",
              "\n",
              "    .dataframe thead th {\n",
              "        text-align: right;\n",
              "    }\n",
              "</style>\n",
              "<table border=\"1\" class=\"dataframe\">\n",
              "  <thead>\n",
              "    <tr style=\"text-align: right;\">\n",
              "      <th></th>\n",
              "      <th>Shift 1</th>\n",
              "      <th>Shift 2</th>\n",
              "    </tr>\n",
              "    <tr>\n",
              "      <th>RequestTime</th>\n",
              "      <th></th>\n",
              "      <th></th>\n",
              "    </tr>\n",
              "  </thead>\n",
              "  <tbody>\n",
              "    <tr>\n",
              "      <th>2018-01-02</th>\n",
              "      <td>10.0</td>\n",
              "      <td>7</td>\n",
              "    </tr>\n",
              "    <tr>\n",
              "      <th>2018-01-03</th>\n",
              "      <td>12.0</td>\n",
              "      <td>8</td>\n",
              "    </tr>\n",
              "    <tr>\n",
              "      <th>2018-01-04</th>\n",
              "      <td>12.0</td>\n",
              "      <td>9</td>\n",
              "    </tr>\n",
              "    <tr>\n",
              "      <th>2018-01-05</th>\n",
              "      <td>10.0</td>\n",
              "      <td>9</td>\n",
              "    </tr>\n",
              "    <tr>\n",
              "      <th>2018-01-06</th>\n",
              "      <td>13.0</td>\n",
              "      <td>16</td>\n",
              "    </tr>\n",
              "    <tr>\n",
              "      <th>...</th>\n",
              "      <td>...</td>\n",
              "      <td>...</td>\n",
              "    </tr>\n",
              "    <tr>\n",
              "      <th>2021-02-24</th>\n",
              "      <td>76.0</td>\n",
              "      <td>91</td>\n",
              "    </tr>\n",
              "    <tr>\n",
              "      <th>2021-02-25</th>\n",
              "      <td>82.0</td>\n",
              "      <td>91</td>\n",
              "    </tr>\n",
              "    <tr>\n",
              "      <th>2021-02-26</th>\n",
              "      <td>70.0</td>\n",
              "      <td>118</td>\n",
              "    </tr>\n",
              "    <tr>\n",
              "      <th>2021-02-27</th>\n",
              "      <td>98.0</td>\n",
              "      <td>162</td>\n",
              "    </tr>\n",
              "    <tr>\n",
              "      <th>2021-02-28</th>\n",
              "      <td>153.0</td>\n",
              "      <td>173</td>\n",
              "    </tr>\n",
              "  </tbody>\n",
              "</table>\n",
              "<p>1154 rows × 2 columns</p>\n",
              "</div>\n",
              "      <button class=\"colab-df-convert\" onclick=\"convertToInteractive('df-7b753349-4135-446b-815e-b151c849f97f')\"\n",
              "              title=\"Convert this dataframe to an interactive table.\"\n",
              "              style=\"display:none;\">\n",
              "        \n",
              "  <svg xmlns=\"http://www.w3.org/2000/svg\" height=\"24px\"viewBox=\"0 0 24 24\"\n",
              "       width=\"24px\">\n",
              "    <path d=\"M0 0h24v24H0V0z\" fill=\"none\"/>\n",
              "    <path d=\"M18.56 5.44l.94 2.06.94-2.06 2.06-.94-2.06-.94-.94-2.06-.94 2.06-2.06.94zm-11 1L8.5 8.5l.94-2.06 2.06-.94-2.06-.94L8.5 2.5l-.94 2.06-2.06.94zm10 10l.94 2.06.94-2.06 2.06-.94-2.06-.94-.94-2.06-.94 2.06-2.06.94z\"/><path d=\"M17.41 7.96l-1.37-1.37c-.4-.4-.92-.59-1.43-.59-.52 0-1.04.2-1.43.59L10.3 9.45l-7.72 7.72c-.78.78-.78 2.05 0 2.83L4 21.41c.39.39.9.59 1.41.59.51 0 1.02-.2 1.41-.59l7.78-7.78 2.81-2.81c.8-.78.8-2.07 0-2.86zM5.41 20L4 18.59l7.72-7.72 1.47 1.35L5.41 20z\"/>\n",
              "  </svg>\n",
              "      </button>\n",
              "      \n",
              "  <style>\n",
              "    .colab-df-container {\n",
              "      display:flex;\n",
              "      flex-wrap:wrap;\n",
              "      gap: 12px;\n",
              "    }\n",
              "\n",
              "    .colab-df-convert {\n",
              "      background-color: #E8F0FE;\n",
              "      border: none;\n",
              "      border-radius: 50%;\n",
              "      cursor: pointer;\n",
              "      display: none;\n",
              "      fill: #1967D2;\n",
              "      height: 32px;\n",
              "      padding: 0 0 0 0;\n",
              "      width: 32px;\n",
              "    }\n",
              "\n",
              "    .colab-df-convert:hover {\n",
              "      background-color: #E2EBFA;\n",
              "      box-shadow: 0px 1px 2px rgba(60, 64, 67, 0.3), 0px 1px 3px 1px rgba(60, 64, 67, 0.15);\n",
              "      fill: #174EA6;\n",
              "    }\n",
              "\n",
              "    [theme=dark] .colab-df-convert {\n",
              "      background-color: #3B4455;\n",
              "      fill: #D2E3FC;\n",
              "    }\n",
              "\n",
              "    [theme=dark] .colab-df-convert:hover {\n",
              "      background-color: #434B5C;\n",
              "      box-shadow: 0px 1px 3px 1px rgba(0, 0, 0, 0.15);\n",
              "      filter: drop-shadow(0px 1px 2px rgba(0, 0, 0, 0.3));\n",
              "      fill: #FFFFFF;\n",
              "    }\n",
              "  </style>\n",
              "\n",
              "      <script>\n",
              "        const buttonEl =\n",
              "          document.querySelector('#df-7b753349-4135-446b-815e-b151c849f97f button.colab-df-convert');\n",
              "        buttonEl.style.display =\n",
              "          google.colab.kernel.accessAllowed ? 'block' : 'none';\n",
              "\n",
              "        async function convertToInteractive(key) {\n",
              "          const element = document.querySelector('#df-7b753349-4135-446b-815e-b151c849f97f');\n",
              "          const dataTable =\n",
              "            await google.colab.kernel.invokeFunction('convertToInteractive',\n",
              "                                                     [key], {});\n",
              "          if (!dataTable) return;\n",
              "\n",
              "          const docLinkHtml = 'Like what you see? Visit the ' +\n",
              "            '<a target=\"_blank\" href=https://colab.research.google.com/notebooks/data_table.ipynb>data table notebook</a>'\n",
              "            + ' to learn more about interactive tables.';\n",
              "          element.innerHTML = '';\n",
              "          dataTable['output_type'] = 'display_data';\n",
              "          await google.colab.output.renderOutput(dataTable, element);\n",
              "          const docLink = document.createElement('div');\n",
              "          docLink.innerHTML = docLinkHtml;\n",
              "          element.appendChild(docLink);\n",
              "        }\n",
              "      </script>\n",
              "    </div>\n",
              "  </div>\n",
              "  "
            ]
          },
          "metadata": {},
          "execution_count": 10
        }
      ],
      "source": [
        "df['Shift 1'] = df['Option 2'].shift(1) + df['Option 3'].shift(1)\n",
        "df['Shift 2'] = df['Option 1']\n",
        "df = df.filter(['Shift 1', 'Shift 2']).dropna()\n",
        "df"
      ]
    },
    {
      "cell_type": "markdown",
      "source": [
        "To ensure the amount of pickers needed for every month first we need to:\n",
        "\n",
        " \n",
        "\n",
        "1.   Calculate the mean of order to be enlisted per shift in every week\n",
        "2.   Take the maximun value from the weeks of every month to ensure that the orders will be covered in every shift without problem month by month\n",
        "3. Divide the result by 30 because every Shift have 6 hours of work and every picker should have a work ratio of 5 order picked per hour, so this division results in the number of pickers needed for that month.\n",
        "\n"
      ],
      "metadata": {
        "id": "vTwukdL7_PAj"
      }
    },
    {
      "cell_type": "code",
      "source": [
        "df_monthly = df.resample('W').mean().resample('M').max()/30\n",
        "df_monthly.head()"
      ],
      "metadata": {
        "colab": {
          "base_uri": "https://localhost:8080/",
          "height": 237
        },
        "id": "skNUmu8E5cy4",
        "outputId": "0349ca1a-3f80-4958-aed9-026c513a6a47"
      },
      "execution_count": 11,
      "outputs": [
        {
          "output_type": "execute_result",
          "data": {
            "text/plain": [
              "              Shift 1   Shift 2\n",
              "RequestTime                    \n",
              "2018-01-31   0.533333  0.438095\n",
              "2018-02-28   0.461905  0.466667\n",
              "2018-03-31   0.523810  0.580952\n",
              "2018-04-30   0.590476  0.690476\n",
              "2018-05-31   0.685714  0.790476"
            ],
            "text/html": [
              "\n",
              "  <div id=\"df-beb49c00-5706-4492-8fc6-7dea193fe587\">\n",
              "    <div class=\"colab-df-container\">\n",
              "      <div>\n",
              "<style scoped>\n",
              "    .dataframe tbody tr th:only-of-type {\n",
              "        vertical-align: middle;\n",
              "    }\n",
              "\n",
              "    .dataframe tbody tr th {\n",
              "        vertical-align: top;\n",
              "    }\n",
              "\n",
              "    .dataframe thead th {\n",
              "        text-align: right;\n",
              "    }\n",
              "</style>\n",
              "<table border=\"1\" class=\"dataframe\">\n",
              "  <thead>\n",
              "    <tr style=\"text-align: right;\">\n",
              "      <th></th>\n",
              "      <th>Shift 1</th>\n",
              "      <th>Shift 2</th>\n",
              "    </tr>\n",
              "    <tr>\n",
              "      <th>RequestTime</th>\n",
              "      <th></th>\n",
              "      <th></th>\n",
              "    </tr>\n",
              "  </thead>\n",
              "  <tbody>\n",
              "    <tr>\n",
              "      <th>2018-01-31</th>\n",
              "      <td>0.533333</td>\n",
              "      <td>0.438095</td>\n",
              "    </tr>\n",
              "    <tr>\n",
              "      <th>2018-02-28</th>\n",
              "      <td>0.461905</td>\n",
              "      <td>0.466667</td>\n",
              "    </tr>\n",
              "    <tr>\n",
              "      <th>2018-03-31</th>\n",
              "      <td>0.523810</td>\n",
              "      <td>0.580952</td>\n",
              "    </tr>\n",
              "    <tr>\n",
              "      <th>2018-04-30</th>\n",
              "      <td>0.590476</td>\n",
              "      <td>0.690476</td>\n",
              "    </tr>\n",
              "    <tr>\n",
              "      <th>2018-05-31</th>\n",
              "      <td>0.685714</td>\n",
              "      <td>0.790476</td>\n",
              "    </tr>\n",
              "  </tbody>\n",
              "</table>\n",
              "</div>\n",
              "      <button class=\"colab-df-convert\" onclick=\"convertToInteractive('df-beb49c00-5706-4492-8fc6-7dea193fe587')\"\n",
              "              title=\"Convert this dataframe to an interactive table.\"\n",
              "              style=\"display:none;\">\n",
              "        \n",
              "  <svg xmlns=\"http://www.w3.org/2000/svg\" height=\"24px\"viewBox=\"0 0 24 24\"\n",
              "       width=\"24px\">\n",
              "    <path d=\"M0 0h24v24H0V0z\" fill=\"none\"/>\n",
              "    <path d=\"M18.56 5.44l.94 2.06.94-2.06 2.06-.94-2.06-.94-.94-2.06-.94 2.06-2.06.94zm-11 1L8.5 8.5l.94-2.06 2.06-.94-2.06-.94L8.5 2.5l-.94 2.06-2.06.94zm10 10l.94 2.06.94-2.06 2.06-.94-2.06-.94-.94-2.06-.94 2.06-2.06.94z\"/><path d=\"M17.41 7.96l-1.37-1.37c-.4-.4-.92-.59-1.43-.59-.52 0-1.04.2-1.43.59L10.3 9.45l-7.72 7.72c-.78.78-.78 2.05 0 2.83L4 21.41c.39.39.9.59 1.41.59.51 0 1.02-.2 1.41-.59l7.78-7.78 2.81-2.81c.8-.78.8-2.07 0-2.86zM5.41 20L4 18.59l7.72-7.72 1.47 1.35L5.41 20z\"/>\n",
              "  </svg>\n",
              "      </button>\n",
              "      \n",
              "  <style>\n",
              "    .colab-df-container {\n",
              "      display:flex;\n",
              "      flex-wrap:wrap;\n",
              "      gap: 12px;\n",
              "    }\n",
              "\n",
              "    .colab-df-convert {\n",
              "      background-color: #E8F0FE;\n",
              "      border: none;\n",
              "      border-radius: 50%;\n",
              "      cursor: pointer;\n",
              "      display: none;\n",
              "      fill: #1967D2;\n",
              "      height: 32px;\n",
              "      padding: 0 0 0 0;\n",
              "      width: 32px;\n",
              "    }\n",
              "\n",
              "    .colab-df-convert:hover {\n",
              "      background-color: #E2EBFA;\n",
              "      box-shadow: 0px 1px 2px rgba(60, 64, 67, 0.3), 0px 1px 3px 1px rgba(60, 64, 67, 0.15);\n",
              "      fill: #174EA6;\n",
              "    }\n",
              "\n",
              "    [theme=dark] .colab-df-convert {\n",
              "      background-color: #3B4455;\n",
              "      fill: #D2E3FC;\n",
              "    }\n",
              "\n",
              "    [theme=dark] .colab-df-convert:hover {\n",
              "      background-color: #434B5C;\n",
              "      box-shadow: 0px 1px 3px 1px rgba(0, 0, 0, 0.15);\n",
              "      filter: drop-shadow(0px 1px 2px rgba(0, 0, 0, 0.3));\n",
              "      fill: #FFFFFF;\n",
              "    }\n",
              "  </style>\n",
              "\n",
              "      <script>\n",
              "        const buttonEl =\n",
              "          document.querySelector('#df-beb49c00-5706-4492-8fc6-7dea193fe587 button.colab-df-convert');\n",
              "        buttonEl.style.display =\n",
              "          google.colab.kernel.accessAllowed ? 'block' : 'none';\n",
              "\n",
              "        async function convertToInteractive(key) {\n",
              "          const element = document.querySelector('#df-beb49c00-5706-4492-8fc6-7dea193fe587');\n",
              "          const dataTable =\n",
              "            await google.colab.kernel.invokeFunction('convertToInteractive',\n",
              "                                                     [key], {});\n",
              "          if (!dataTable) return;\n",
              "\n",
              "          const docLinkHtml = 'Like what you see? Visit the ' +\n",
              "            '<a target=\"_blank\" href=https://colab.research.google.com/notebooks/data_table.ipynb>data table notebook</a>'\n",
              "            + ' to learn more about interactive tables.';\n",
              "          element.innerHTML = '';\n",
              "          dataTable['output_type'] = 'display_data';\n",
              "          await google.colab.output.renderOutput(dataTable, element);\n",
              "          const docLink = document.createElement('div');\n",
              "          docLink.innerHTML = docLinkHtml;\n",
              "          element.appendChild(docLink);\n",
              "        }\n",
              "      </script>\n",
              "    </div>\n",
              "  </div>\n",
              "  "
            ]
          },
          "metadata": {},
          "execution_count": 11
        }
      ]
    },
    {
      "cell_type": "markdown",
      "source": [
        "We need to consider the pandemic affectedness on the requests during the most affected months so we aggregate this factor to our data:"
      ],
      "metadata": {
        "id": "5iKj1GgYvsi8"
      }
    },
    {
      "cell_type": "code",
      "execution_count": 12,
      "metadata": {
        "id": "rbTdX23CvFeM"
      },
      "outputs": [],
      "source": [
        "def pandemic_affect(df_i):\n",
        "\n",
        "    #Creates a new column in the dataframe with the values of the affectedness to te company in pandemic period.\n",
        "    df_i.loc[(df_i.index < '2020-03-01'), 'Pandemic Affect'] = 0\n",
        "    df_i.loc[(df_i.index >= '2020-03-01') & (df_i.index < '2020-05-01'), 'Pandemic Affect'] = 3\n",
        "    df_i.loc[(df_i.index >= '2020-05-01') & (df_i.index < '2020-08-01'), 'Pandemic Affect'] = 1\n",
        "    df_i.loc[(df_i.index >= '2020-08-01') & (df_i.index < '2020-10-01'), 'Pandemic Affect'] = 2\n",
        "    df_i.loc[(df_i.index >= '2020-10-01') & (df_i.index < '2020-12-01'), 'Pandemic Affect'] = 1\n",
        "    df_i.loc[(df_i.index >= '2020-12-01') & (df_i.index < '2021-02-01'), 'Pandemic Affect'] = 2\n",
        "    df_i.loc[(df_i.index >= '2021-02-01'), 'Pandemic Affect'] = 1\n",
        "    return df_i"
      ]
    },
    {
      "cell_type": "code",
      "source": [
        "df_monthly = pandemic_affect(df_monthly)\n",
        "df_monthly.tail()"
      ],
      "metadata": {
        "id": "wZfoNvQMwwkb",
        "colab": {
          "base_uri": "https://localhost:8080/",
          "height": 237
        },
        "outputId": "cf373244-ab11-4a16-95be-65f75fa38166"
      },
      "execution_count": 13,
      "outputs": [
        {
          "output_type": "execute_result",
          "data": {
            "text/plain": [
              "              Shift 1   Shift 2  Pandemic Affect\n",
              "RequestTime                                     \n",
              "2020-10-31   2.714286  3.685714              1.0\n",
              "2020-11-30   2.895238  3.985714              1.0\n",
              "2020-12-31   4.195238  5.514286              2.0\n",
              "2021-01-31   3.785714  4.961905              2.0\n",
              "2021-02-28   3.200000  4.266667              1.0"
            ],
            "text/html": [
              "\n",
              "  <div id=\"df-2e2a70f5-e2fc-458c-a9f1-e43b509f8fa1\">\n",
              "    <div class=\"colab-df-container\">\n",
              "      <div>\n",
              "<style scoped>\n",
              "    .dataframe tbody tr th:only-of-type {\n",
              "        vertical-align: middle;\n",
              "    }\n",
              "\n",
              "    .dataframe tbody tr th {\n",
              "        vertical-align: top;\n",
              "    }\n",
              "\n",
              "    .dataframe thead th {\n",
              "        text-align: right;\n",
              "    }\n",
              "</style>\n",
              "<table border=\"1\" class=\"dataframe\">\n",
              "  <thead>\n",
              "    <tr style=\"text-align: right;\">\n",
              "      <th></th>\n",
              "      <th>Shift 1</th>\n",
              "      <th>Shift 2</th>\n",
              "      <th>Pandemic Affect</th>\n",
              "    </tr>\n",
              "    <tr>\n",
              "      <th>RequestTime</th>\n",
              "      <th></th>\n",
              "      <th></th>\n",
              "      <th></th>\n",
              "    </tr>\n",
              "  </thead>\n",
              "  <tbody>\n",
              "    <tr>\n",
              "      <th>2020-10-31</th>\n",
              "      <td>2.714286</td>\n",
              "      <td>3.685714</td>\n",
              "      <td>1.0</td>\n",
              "    </tr>\n",
              "    <tr>\n",
              "      <th>2020-11-30</th>\n",
              "      <td>2.895238</td>\n",
              "      <td>3.985714</td>\n",
              "      <td>1.0</td>\n",
              "    </tr>\n",
              "    <tr>\n",
              "      <th>2020-12-31</th>\n",
              "      <td>4.195238</td>\n",
              "      <td>5.514286</td>\n",
              "      <td>2.0</td>\n",
              "    </tr>\n",
              "    <tr>\n",
              "      <th>2021-01-31</th>\n",
              "      <td>3.785714</td>\n",
              "      <td>4.961905</td>\n",
              "      <td>2.0</td>\n",
              "    </tr>\n",
              "    <tr>\n",
              "      <th>2021-02-28</th>\n",
              "      <td>3.200000</td>\n",
              "      <td>4.266667</td>\n",
              "      <td>1.0</td>\n",
              "    </tr>\n",
              "  </tbody>\n",
              "</table>\n",
              "</div>\n",
              "      <button class=\"colab-df-convert\" onclick=\"convertToInteractive('df-2e2a70f5-e2fc-458c-a9f1-e43b509f8fa1')\"\n",
              "              title=\"Convert this dataframe to an interactive table.\"\n",
              "              style=\"display:none;\">\n",
              "        \n",
              "  <svg xmlns=\"http://www.w3.org/2000/svg\" height=\"24px\"viewBox=\"0 0 24 24\"\n",
              "       width=\"24px\">\n",
              "    <path d=\"M0 0h24v24H0V0z\" fill=\"none\"/>\n",
              "    <path d=\"M18.56 5.44l.94 2.06.94-2.06 2.06-.94-2.06-.94-.94-2.06-.94 2.06-2.06.94zm-11 1L8.5 8.5l.94-2.06 2.06-.94-2.06-.94L8.5 2.5l-.94 2.06-2.06.94zm10 10l.94 2.06.94-2.06 2.06-.94-2.06-.94-.94-2.06-.94 2.06-2.06.94z\"/><path d=\"M17.41 7.96l-1.37-1.37c-.4-.4-.92-.59-1.43-.59-.52 0-1.04.2-1.43.59L10.3 9.45l-7.72 7.72c-.78.78-.78 2.05 0 2.83L4 21.41c.39.39.9.59 1.41.59.51 0 1.02-.2 1.41-.59l7.78-7.78 2.81-2.81c.8-.78.8-2.07 0-2.86zM5.41 20L4 18.59l7.72-7.72 1.47 1.35L5.41 20z\"/>\n",
              "  </svg>\n",
              "      </button>\n",
              "      \n",
              "  <style>\n",
              "    .colab-df-container {\n",
              "      display:flex;\n",
              "      flex-wrap:wrap;\n",
              "      gap: 12px;\n",
              "    }\n",
              "\n",
              "    .colab-df-convert {\n",
              "      background-color: #E8F0FE;\n",
              "      border: none;\n",
              "      border-radius: 50%;\n",
              "      cursor: pointer;\n",
              "      display: none;\n",
              "      fill: #1967D2;\n",
              "      height: 32px;\n",
              "      padding: 0 0 0 0;\n",
              "      width: 32px;\n",
              "    }\n",
              "\n",
              "    .colab-df-convert:hover {\n",
              "      background-color: #E2EBFA;\n",
              "      box-shadow: 0px 1px 2px rgba(60, 64, 67, 0.3), 0px 1px 3px 1px rgba(60, 64, 67, 0.15);\n",
              "      fill: #174EA6;\n",
              "    }\n",
              "\n",
              "    [theme=dark] .colab-df-convert {\n",
              "      background-color: #3B4455;\n",
              "      fill: #D2E3FC;\n",
              "    }\n",
              "\n",
              "    [theme=dark] .colab-df-convert:hover {\n",
              "      background-color: #434B5C;\n",
              "      box-shadow: 0px 1px 3px 1px rgba(0, 0, 0, 0.15);\n",
              "      filter: drop-shadow(0px 1px 2px rgba(0, 0, 0, 0.3));\n",
              "      fill: #FFFFFF;\n",
              "    }\n",
              "  </style>\n",
              "\n",
              "      <script>\n",
              "        const buttonEl =\n",
              "          document.querySelector('#df-2e2a70f5-e2fc-458c-a9f1-e43b509f8fa1 button.colab-df-convert');\n",
              "        buttonEl.style.display =\n",
              "          google.colab.kernel.accessAllowed ? 'block' : 'none';\n",
              "\n",
              "        async function convertToInteractive(key) {\n",
              "          const element = document.querySelector('#df-2e2a70f5-e2fc-458c-a9f1-e43b509f8fa1');\n",
              "          const dataTable =\n",
              "            await google.colab.kernel.invokeFunction('convertToInteractive',\n",
              "                                                     [key], {});\n",
              "          if (!dataTable) return;\n",
              "\n",
              "          const docLinkHtml = 'Like what you see? Visit the ' +\n",
              "            '<a target=\"_blank\" href=https://colab.research.google.com/notebooks/data_table.ipynb>data table notebook</a>'\n",
              "            + ' to learn more about interactive tables.';\n",
              "          element.innerHTML = '';\n",
              "          dataTable['output_type'] = 'display_data';\n",
              "          await google.colab.output.renderOutput(dataTable, element);\n",
              "          const docLink = document.createElement('div');\n",
              "          docLink.innerHTML = docLinkHtml;\n",
              "          element.appendChild(docLink);\n",
              "        }\n",
              "      </script>\n",
              "    </div>\n",
              "  </div>\n",
              "  "
            ]
          },
          "metadata": {},
          "execution_count": 13
        }
      ]
    },
    {
      "cell_type": "markdown",
      "source": [
        "# Training\n",
        "\n",
        "And so on, moving forward the analysis we will test some models to forecast the next month and use the recommendation of the best model to hire the enough amount of pickers and minimize the waste of money exceeding the personal.\n",
        "\n",
        "First at all, the models will be proved predicting the last two months of the data:"
      ],
      "metadata": {
        "id": "ziLrhpeBwEs8"
      }
    },
    {
      "cell_type": "code",
      "execution_count": 14,
      "metadata": {
        "colab": {
          "base_uri": "https://localhost:8080/",
          "height": 423
        },
        "id": "nM2ADQ4JvFeN",
        "outputId": "f91d43a9-569d-4904-b6c8-1e22a403693b"
      },
      "outputs": [
        {
          "output_type": "execute_result",
          "data": {
            "text/plain": [
              "<matplotlib.legend.Legend at 0x7f33f5c90810>"
            ]
          },
          "metadata": {},
          "execution_count": 14
        },
        {
          "output_type": "display_data",
          "data": {
            "text/plain": [
              "<Figure size 1296x432 with 1 Axes>"
            ],
            "image/png": "[encoded data removed]"
          },
          "metadata": {}
        }
      ],
      "source": [
        "series = TimeSeries.from_dataframe(df_monthly['Shift 1'].to_frame())\n",
        "train, val = series.split_before(0.999)\n",
        "plt.figure(figsize=(18,6))\n",
        "train.plot(label=\"Training\")\n",
        "val.plot(label=\"Validation\")\n",
        "plt.legend(loc=\"upper left\", fontsize=\"xx-large\")"
      ]
    },
    {
      "cell_type": "markdown",
      "source": [
        "Initially if we have stationality in the data the models will have a considerable help while predicting, this data have stationality:"
      ],
      "metadata": {
        "id": "RhR3JUFWxeWF"
      }
    },
    {
      "cell_type": "code",
      "source": [
        "ALPHA = 0.05\n",
        "\n",
        "for m in range(2, 25):\n",
        "    is_seasonal, mseas = check_seasonality(series, m=m, alpha=ALPHA)\n",
        "    if is_seasonal:\n",
        "        break\n",
        "\n",
        "print(\"There is stationality? \" + str(is_seasonal))\n",
        "if is_seasonal:\n",
        "    print('Yes, it order is {}.'.format(mseas))\n",
        "else:\n",
        "  print(\"No, there isn't\")"
      ],
      "metadata": {
        "colab": {
          "base_uri": "https://localhost:8080/"
        },
        "id": "pSrct-_nwiPy",
        "outputId": "c1caf9dc-47d6-4d66-847e-3c5241457885"
      },
      "execution_count": 15,
      "outputs": [
        {
          "output_type": "stream",
          "name": "stdout",
          "text": [
            "There is stationality? True\n",
            "Yes, it order is 6.\n"
          ]
        }
      ]
    },
    {
      "cell_type": "markdown",
      "source": [
        "We need to train the models calculating with a variety of error metrics the performance of each one predicting the last two months of our data:"
      ],
      "metadata": {
        "id": "UOyKZZA0yKRl"
      }
    },
    {
      "cell_type": "code",
      "source": [
        "def eval_model(model):\n",
        "    t_start =  time.perf_counter()\n",
        "\n",
        "\n",
        "    # Fit and predict of every model with the past division of train and validation\n",
        "    res = model.fit(train)\n",
        "    forecast = model.predict(len(val))\n",
        "\n",
        "    # fFor Naive Forecast we add the Trend and Seasonality component if there is one\n",
        "    if model == m_naive:\n",
        "        if is_seasonal:\n",
        "            fc_drift = forecast\n",
        "            modelS = NaiveSeasonal(K=mseas)\n",
        "            modelS.fit(train)\n",
        "            fc_seas = modelS.predict(len(val))\n",
        "            forecast = fc_drift + fc_seas - train.last_value()\n",
        "\n",
        "\n",
        "    # Calculate measuring metrics for every prediction\n",
        "    \n",
        "    res_mape = mape(val, forecast)\n",
        "    res_mae = mae(val, forecast)\n",
        "    res_r2 = r2_score(val, forecast)\n",
        "    res_rmse = rmse(val, forecast)\n",
        "    res_rmsle = rmsle(val, forecast)\n",
        "    res_time = time.perf_counter() - t_start\n",
        "    res_accuracy = {\"MAPE\":res_mape, \"MAE\":res_mae, \"R squared\":-res_r2, \"RMSE\":res_rmse, \"RMSLE\":res_rmsle, \"time\":res_time}\n",
        "\n",
        "    results = [forecast, res_accuracy]\n",
        "    return results"
      ],
      "metadata": {
        "id": "QG3VSSqjicM8"
      },
      "execution_count": 16,
      "outputs": []
    },
    {
      "cell_type": "code",
      "source": [
        "m_naive = NaiveDrift();\n",
        "\n",
        "#-----\n",
        "\n",
        "if is_seasonal:\n",
        "    m_expon = ExponentialSmoothing(seasonal_periods=mseas);\n",
        "else:\n",
        "    m_expon = ExponentialSmoothing();\n",
        "\n",
        "#-----\n",
        "\n",
        "y = np.asarray(series.pd_series())\n",
        "n_kpss = pmd.arima.ndiffs(y, alpha=ALPHA, test='kpss', max_d=2);\n",
        "n_adf = pmd.arima.ndiffs(y, alpha=ALPHA, test='adf', max_d=2);\n",
        "n_diff = max(n_adf, n_kpss)\n",
        "\n",
        "n_ocsb = pmd.arima.OCSBTest(m=max(4,mseas)).estimate_seasonal_differencing_term(y);\n",
        "n_ch = pmd.arima.CHTest(m=max(4,mseas)).estimate_seasonal_differencing_term(y);\n",
        "ns_diff = max(n_ocsb, n_ch, is_seasonal * 1)\n",
        "\n",
        "#-----\n",
        "\n",
        "m_arima = AutoARIMA(\n",
        "    start_p=1, d=n_diff, start_q=1,\n",
        "    max_p=4, max_d=n_diff, max_q=4,\n",
        "    start_P=0, D=ns_diff, start_Q=0, m=max(4,mseas), seasonal=is_seasonal,\n",
        "    max_P=3, max_D=1, max_Q=3,\n",
        "    max_order=5,                       # p+q+p+Q <= max_order\n",
        "    stationary=False, \n",
        "    information_criterion=\"bic\", alpha=ALPHA, \n",
        "    test=\"kpss\", seasonal_test=\"ocsb\",\n",
        "    stepwise=True, \n",
        "    suppress_warnings=True, error_action=\"trace\", trace=True, with_intercept=\"auto\");\n",
        "\n",
        "#-----\n",
        "\n",
        "thetas = 2 - np.linspace(-10, 10, 100)\n",
        "best_mape = float('inf')\n",
        "best_theta = 0\n",
        "\n",
        "for theta in thetas:\n",
        "    model = Theta(theta);\n",
        "    res = model.fit(train);\n",
        "    pred_theta = model.predict(len(val));\n",
        "    res_mape = mape(val, pred_theta);\n",
        "\n",
        "    if res_mape < best_mape:\n",
        "        best_mape = res_mape\n",
        "        best_theta = theta\n",
        "\n",
        "m_theta = Theta(best_theta) ;\n",
        "\n",
        "#-----\n",
        "\n",
        "m_randomforest = RandomForest(lags=20, n_estimators = 10, max_depth = 5);\n",
        "\n",
        "\n",
        "#------\n",
        "#------\n",
        "\n",
        "models = [ \n",
        "    m_expon, \n",
        "    m_theta, \n",
        "    m_arima,\n",
        "    m_naive, \n",
        "    m_randomforest]"
      ],
      "metadata": {
        "id": "H7jZ8CoYiwjQ"
      },
      "execution_count": 17,
      "outputs": []
    },
    {
      "cell_type": "code",
      "source": [
        "# call the forecasters one after the other\n",
        "model_titles = ['Exponential Smoothing','Theta','ARIMA','NAIVE','Random Forest']\n",
        "model_predictions = [eval_model(model) for model in models];"
      ],
      "metadata": {
        "colab": {
          "base_uri": "https://localhost:8080/"
        },
        "id": "T1Qqj9nD1oc8",
        "outputId": "11dc4de1-5c56-4d81-eb4d-90c2e487ee89"
      },
      "execution_count": 18,
      "outputs": [
        {
          "output_type": "stream",
          "name": "stdout",
          "text": [
            "Performing stepwise search to minimize bic\n",
            " ARIMA(1,1,1)(0,1,0)[6]             : BIC=40.558, Time=0.11 sec\n",
            " ARIMA(0,1,0)(0,1,0)[6]             : BIC=41.491, Time=0.02 sec\n",
            " ARIMA(1,1,0)(1,1,0)[6]             : BIC=32.558, Time=0.15 sec\n",
            " ARIMA(0,1,1)(0,1,1)[6]             : BIC=34.967, Time=0.36 sec\n",
            " ARIMA(1,1,0)(0,1,0)[6]             : BIC=37.193, Time=0.03 sec\n",
            " ARIMA(1,1,0)(2,1,0)[6]             : BIC=35.125, Time=0.23 sec\n",
            " ARIMA(1,1,0)(1,1,1)[6]             : BIC=35.312, Time=0.63 sec\n",
            " ARIMA(1,1,0)(0,1,1)[6]             : BIC=35.424, Time=0.16 sec\n",
            " ARIMA(1,1,0)(2,1,1)[6]             : BIC=38.368, Time=1.03 sec\n",
            " ARIMA(0,1,0)(1,1,0)[6]             : BIC=31.460, Time=0.16 sec\n",
            " ARIMA(0,1,0)(2,1,0)[6]             : BIC=34.612, Time=0.27 sec\n",
            " ARIMA(0,1,0)(1,1,1)[6]             : BIC=34.630, Time=0.45 sec\n",
            " ARIMA(0,1,0)(0,1,1)[6]             : BIC=35.682, Time=0.28 sec\n",
            " ARIMA(0,1,0)(2,1,1)[6]             : BIC=37.961, Time=0.81 sec\n",
            " ARIMA(0,1,1)(1,1,0)[6]             : BIC=31.035, Time=0.20 sec\n",
            " ARIMA(0,1,1)(0,1,0)[6]             : BIC=38.315, Time=0.08 sec\n",
            " ARIMA(0,1,1)(2,1,0)[6]             : BIC=33.132, Time=0.31 sec\n",
            " ARIMA(0,1,1)(1,1,1)[6]             : BIC=33.467, Time=0.34 sec\n",
            " ARIMA(0,1,1)(2,1,1)[6]             : BIC=36.256, Time=0.93 sec\n",
            " ARIMA(1,1,1)(1,1,0)[6]             : BIC=31.449, Time=0.48 sec\n",
            " ARIMA(0,1,2)(1,1,0)[6]             : BIC=31.761, Time=0.48 sec\n",
            " ARIMA(1,1,2)(1,1,0)[6]             : BIC=34.420, Time=0.98 sec\n",
            " ARIMA(0,1,1)(1,1,0)[6] intercept   : BIC=inf, Time=0.83 sec\n",
            "\n",
            "Best model:  ARIMA(0,1,1)(1,1,0)[6]          \n",
            "Total fit time: 9.366 seconds\n"
          ]
        }
      ]
    },
    {
      "cell_type": "markdown",
      "source": [
        "# Results\n",
        "\n",
        "Now run the forecasters and tabulate their prediction accuracy and processing time to find the best model performance:"
      ],
      "metadata": {
        "id": "yHPYioybyvpb"
      }
    },
    {
      "cell_type": "code",
      "source": [
        "df_acc = pd.DataFrame.from_dict(model_predictions[0][1], orient=\"index\")\n",
        "df_acc.columns = ['Exponential Smoothing']\n",
        "\n",
        "for i, m in enumerate(models):\n",
        "    if i > 0: \n",
        "        df = pd.DataFrame.from_dict(model_predictions[i][1], orient=\"index\")\n",
        "        df.columns = [model_titles[i]]\n",
        "        df_acc = pd.concat([df_acc, df], axis=1)\n",
        "    i +=1\n",
        "\n",
        "pd.set_option(\"display.precision\",3)\n",
        "df_acc.style.highlight_min(color=\"green\", axis=1).highlight_max(color=\"darkorange\", axis=1)"
      ],
      "metadata": {
        "colab": {
          "base_uri": "https://localhost:8080/",
          "height": 237
        },
        "id": "nakjOSM9jRg2",
        "outputId": "27a86028-2d80-44aa-f839-43c85d961f35"
      },
      "execution_count": 19,
      "outputs": [
        {
          "output_type": "execute_result",
          "data": {
            "text/plain": [
              "<pandas.io.formats.style.Styler at 0x7f33f5b309d0>"
            ],
            "text/html": [
              "<style type=\"text/css\">\n",
              "#T_b3164_row0_col1, #T_b3164_row1_col1, #T_b3164_row2_col1, #T_b3164_row3_col1, #T_b3164_row4_col1, #T_b3164_row5_col1 {\n",
              "  background-color: green;\n",
              "}\n",
              "#T_b3164_row0_col2, #T_b3164_row1_col2, #T_b3164_row2_col2, #T_b3164_row3_col2, #T_b3164_row4_col2, #T_b3164_row5_col2 {\n",
              "  background-color: darkorange;\n",
              "}\n",
              "</style>\n",
              "<table id=\"T_b3164_\" class=\"dataframe\">\n",
              "  <thead>\n",
              "    <tr>\n",
              "      <th class=\"blank level0\" >&nbsp;</th>\n",
              "      <th class=\"col_heading level0 col0\" >Exponential Smoothing</th>\n",
              "      <th class=\"col_heading level0 col1\" >Theta</th>\n",
              "      <th class=\"col_heading level0 col2\" >ARIMA</th>\n",
              "      <th class=\"col_heading level0 col3\" >NAIVE</th>\n",
              "      <th class=\"col_heading level0 col4\" >Random Forest</th>\n",
              "    </tr>\n",
              "  </thead>\n",
              "  <tbody>\n",
              "    <tr>\n",
              "      <th id=\"T_b3164_level0_row0\" class=\"row_heading level0 row0\" >MAPE</th>\n",
              "      <td id=\"T_b3164_row0_col0\" class=\"data row0 col0\" >8.337</td>\n",
              "      <td id=\"T_b3164_row0_col1\" class=\"data row0 col1\" >2.297</td>\n",
              "      <td id=\"T_b3164_row0_col2\" class=\"data row0 col2\" >10.262</td>\n",
              "      <td id=\"T_b3164_row0_col3\" class=\"data row0 col3\" >5.112</td>\n",
              "      <td id=\"T_b3164_row0_col4\" class=\"data row0 col4\" >7.254</td>\n",
              "    </tr>\n",
              "    <tr>\n",
              "      <th id=\"T_b3164_level0_row1\" class=\"row_heading level0 row1\" >MAE</th>\n",
              "      <td id=\"T_b3164_row1_col0\" class=\"data row1 col0\" >0.276</td>\n",
              "      <td id=\"T_b3164_row1_col1\" class=\"data row1 col1\" >0.079</td>\n",
              "      <td id=\"T_b3164_row1_col2\" class=\"data row1 col2\" >0.349</td>\n",
              "      <td id=\"T_b3164_row1_col3\" class=\"data row1 col3\" >0.176</td>\n",
              "      <td id=\"T_b3164_row1_col4\" class=\"data row1 col4\" >0.270</td>\n",
              "    </tr>\n",
              "    <tr>\n",
              "      <th id=\"T_b3164_level0_row2\" class=\"row_heading level0 row2\" >R squared</th>\n",
              "      <td id=\"T_b3164_row2_col0\" class=\"data row2 col0\" >0.178</td>\n",
              "      <td id=\"T_b3164_row2_col1\" class=\"data row2 col1\" >-0.926</td>\n",
              "      <td id=\"T_b3164_row2_col2\" class=\"data row2 col2\" >0.498</td>\n",
              "      <td id=\"T_b3164_row2_col3\" class=\"data row2 col3\" >-0.636</td>\n",
              "      <td id=\"T_b3164_row2_col4\" class=\"data row2 col4\" >0.397</td>\n",
              "    </tr>\n",
              "    <tr>\n",
              "      <th id=\"T_b3164_level0_row3\" class=\"row_heading level0 row3\" >RMSE</th>\n",
              "      <td id=\"T_b3164_row3_col0\" class=\"data row3 col0\" >0.318</td>\n",
              "      <td id=\"T_b3164_row3_col1\" class=\"data row3 col1\" >0.079</td>\n",
              "      <td id=\"T_b3164_row3_col2\" class=\"data row3 col2\" >0.358</td>\n",
              "      <td id=\"T_b3164_row3_col3\" class=\"data row3 col3\" >0.177</td>\n",
              "      <td id=\"T_b3164_row3_col4\" class=\"data row3 col4\" >0.346</td>\n",
              "    </tr>\n",
              "    <tr>\n",
              "      <th id=\"T_b3164_level0_row4\" class=\"row_heading level0 row4\" >RMSLE</th>\n",
              "      <td id=\"T_b3164_row4_col0\" class=\"data row4 col0\" >0.072</td>\n",
              "      <td id=\"T_b3164_row4_col1\" class=\"data row4 col1\" >0.018</td>\n",
              "      <td id=\"T_b3164_row4_col2\" class=\"data row4 col2\" >0.079</td>\n",
              "      <td id=\"T_b3164_row4_col3\" class=\"data row4 col3\" >0.040</td>\n",
              "      <td id=\"T_b3164_row4_col4\" class=\"data row4 col4\" >0.076</td>\n",
              "    </tr>\n",
              "    <tr>\n",
              "      <th id=\"T_b3164_level0_row5\" class=\"row_heading level0 row5\" >time</th>\n",
              "      <td id=\"T_b3164_row5_col0\" class=\"data row5 col0\" >0.324</td>\n",
              "      <td id=\"T_b3164_row5_col1\" class=\"data row5 col1\" >0.139</td>\n",
              "      <td id=\"T_b3164_row5_col2\" class=\"data row5 col2\" >9.534</td>\n",
              "      <td id=\"T_b3164_row5_col3\" class=\"data row5 col3\" >0.234</td>\n",
              "      <td id=\"T_b3164_row5_col4\" class=\"data row5 col4\" >0.182</td>\n",
              "    </tr>\n",
              "  </tbody>\n",
              "</table>\n"
            ]
          },
          "metadata": {},
          "execution_count": 19
        }
      ]
    },
    {
      "cell_type": "markdown",
      "source": [
        "As we see, the Theta model is the best model based on the error metrics specially compared to the remaining models, if we can visuallize it would be more comfortable to deduce the general performance:"
      ],
      "metadata": {
        "id": "9aSfUiNVy-6y"
      }
    },
    {
      "cell_type": "code",
      "source": [
        "# plot the forecasts\n",
        "\n",
        "pairs = math.ceil(len(models)/2)                    # how many rows of charts\n",
        "fig, ax = plt.subplots(pairs, 2, figsize=(20, 5 * pairs))\n",
        "ax = ax.ravel()\n",
        "\n",
        "model_titles = ['Exponential Smoothing','Theta','ARIMA','NAIVE','Random Forest']\n",
        "\n",
        "for i,m in enumerate(models):\n",
        "        series.plot(label=\"actual\", ax=ax[i])\n",
        "        model_predictions[i][0].plot(label=\"prediction: \"+model_titles[i], ax=ax[i])\n",
        "        \n",
        "        mape_model =  model_predictions[i][1][\"MAPE\"]\n",
        "        time_model =  model_predictions[i][1][\"time\"]\n",
        "        ax[i].set_title(\"\\n\\n\" + model_titles[i])\n",
        "\n",
        "        ax[i].set_xlabel(\"\")\n",
        "        ax[i].legend()\n",
        "\n",
        "plt.tight_layout()"
      ],
      "metadata": {
        "colab": {
          "base_uri": "https://localhost:8080/",
          "height": 1000
        },
        "id": "OtOixlW9jfpc",
        "outputId": "4390f45f-e635-44d4-a825-51b6b7ae2f23"
      },
      "execution_count": 20,
      "outputs": [
        {
          "output_type": "stream",
          "name": "stderr",
          "text": [
            "2022-05-02 04:39:10 matplotlib.legend WARNING: No handles with labels found to put in legend.\n",
            "2022-05-02 04:39:10 matplotlib.legend WARNING: No handles with labels found to put in legend.\n",
            "2022-05-02 04:39:10 matplotlib.legend WARNING: No handles with labels found to put in legend.\n",
            "2022-05-02 04:39:10 matplotlib.legend WARNING: No handles with labels found to put in legend.\n",
            "2022-05-02 04:39:10 matplotlib.legend WARNING: No handles with labels found to put in legend.\n",
            "2022-05-02 04:39:10 matplotlib.legend WARNING: No handles with labels found to put in legend.\n",
            "2022-05-02 04:39:10 matplotlib.legend WARNING: No handles with labels found to put in legend.\n",
            "2022-05-02 04:39:10 matplotlib.legend WARNING: No handles with labels found to put in legend.\n",
            "2022-05-02 04:39:10 matplotlib.legend WARNING: No handles with labels found to put in legend.\n",
            "2022-05-02 04:39:10 matplotlib.legend WARNING: No handles with labels found to put in legend.\n"
          ]
        },
        {
          "output_type": "display_data",
          "data": {
            "text/plain": [
              "<Figure size 1440x1080 with 6 Axes>"
            ],
            "image/png": "[encoded data removed]"
          },
          "metadata": {}
        }
      ]
    },
    {
      "cell_type": "markdown",
      "source": [
        "The theta model is the one with the best performance, this model does not allow exogenous variables (coravirables like the pandemic afectedness) becauseo of being univariable forecasting, then we can forecast our next month training this model with all the dataset:"
      ],
      "metadata": {
        "id": "d-aX-o07CIx5"
      }
    },
    {
      "cell_type": "code",
      "source": [
        "m_theta.fit(series)\n",
        "m_theta.predict(1).values"
      ],
      "metadata": {
        "colab": {
          "base_uri": "https://localhost:8080/"
        },
        "id": "MaDpZgszCe7v",
        "outputId": "faaf15a2-6ddd-44f5-b60c-91d2dbeac645"
      },
      "execution_count": 21,
      "outputs": [
        {
          "output_type": "execute_result",
          "data": {
            "text/plain": [
              "<bound method TimeSeries.values of <TimeSeries (DataArray) (RequestTime: 1, component: 1, sample: 1)>\n",
              "array([[[2.49992359]]])\n",
              "Coordinates:\n",
              "  * RequestTime  (RequestTime) datetime64[ns] 2021-03-31\n",
              "  * component    (component) object 'Shift 1'\n",
              "Dimensions without coordinates: sample>"
            ]
          },
          "metadata": {},
          "execution_count": 21
        }
      ]
    },
    {
      "cell_type": "markdown",
      "source": [
        "For the month of MARCH 2021 the pickers needed to attend the demand of pickers will be **3** if we round the 2.499 **that means the necessity of 2 workers and one more to complete the remainig work**."
      ],
      "metadata": {
        "id": "8sK-NG0tCwpD"
      }
    },
    {
      "cell_type": "markdown",
      "source": [
        "# Extra\n",
        "\n",
        "After our selection, we will add the data of the pandemic affectedness into the Random Forest model that allow variables that can relate the behavior of the information, this to adjust our model to reality and forecast a more accurate value for the next month, this was proved before and the performance increase with this exogenous variable (called covariable too):"
      ],
      "metadata": {
        "id": "-Wx2QrY3zku6"
      }
    },
    {
      "cell_type": "code",
      "source": [
        "series_pandemic = TimeSeries.from_dataframe(df_monthly['Pandemic Affect'].to_frame())\n",
        "m_randomforest = RandomForest(lags=20, n_estimators = 10, max_depth = 5, lags_past_covariates=30)\n",
        "m_randomforest.fit(series, past_covariates=series_pandemic)\n",
        "prediction = m_randomforest.predict(1, past_covariates=series_pandemic)\n",
        "prediction.values"
      ],
      "metadata": {
        "id": "w75bwD8v1H3p",
        "colab": {
          "base_uri": "https://localhost:8080/"
        },
        "outputId": "cb365d5f-ced4-42a5-8162-771283183f08"
      },
      "execution_count": 22,
      "outputs": [
        {
          "output_type": "execute_result",
          "data": {
            "text/plain": [
              "<bound method TimeSeries.values of <TimeSeries (DataArray) (RequestTime: 1, component: 1, sample: 1)>\n",
              "array([[[2.78428571]]])\n",
              "Coordinates:\n",
              "  * RequestTime  (RequestTime) datetime64[ns] 2021-03-31\n",
              "  * component    (component) object 'Shift 1'\n",
              "Dimensions without coordinates: sample>"
            ]
          },
          "metadata": {},
          "execution_count": 22
        }
      ]
    },
    {
      "cell_type": "markdown",
      "source": [
        "The random forest with the influence of pandemic level of affectedness shows a result of **3 pickers** in an aproximation too."
      ],
      "metadata": {
        "id": "e9h9MgXCEQMo"
      }
    }
  ],
  "metadata": {
    "interpreter": {
      "hash": "afb1ca3bc18ae6171bd7b97235144abe7d96909f3d20e7ef21e9d03b321837d0"
    },
    "kernelspec": {
      "display_name": "Python 3.9.7 ('base')",
      "language": "python",
      "name": "python3"
    },
    "language_info": {
      "codemirror_mode": {
        "name": "ipython",
        "version": 3
      },
      "file_extension": ".py",
      "mimetype": "text/x-python",
      "name": "python",
      "nbconvert_exporter": "python",
      "pygments_lexer": "ipython3",
      "version": "3.10.4"
    },
    "orig_nbformat": 4,
    "colab": {
      "name": "Melonn_Test.ipynb",
      "provenance": [],
      "toc_visible": true,
      "include_colab_link": true
    }
  },
  "nbformat": 4,
  "nbformat_minor": 0
}